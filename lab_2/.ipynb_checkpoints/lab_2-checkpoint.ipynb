{
 "cells": [
  {
   "cell_type": "markdown",
   "id": "10884334-1487-40f6-bae0-24764104c262",
   "metadata": {},
   "source": [
    "# Друга лабораторна робота"
   ]
  },
  {
   "cell_type": "code",
   "execution_count": 1,
   "id": "2e9ab563-60ae-4087-96eb-63444e2bc94d",
   "metadata": {},
   "outputs": [],
   "source": [
    "import random"
   ]
  },
  {
   "cell_type": "markdown",
   "id": "9fce29d8-c1c3-4d07-8cbf-083d9d379ce7",
   "metadata": {},
   "source": [
    "Реалізація абстрактного класу графу, що створює n вершин без ребер та зберігає матрицю суміжності."
   ]
  },
  {
   "cell_type": "code",
   "execution_count": 3,
   "id": "8a23f9a7-872c-4121-a345-6dea90565397",
   "metadata": {},
   "outputs": [],
   "source": [
    "# Клас граф, створює граф з n вершин та пусту матрицю суміжності\n",
    "class Graph(object):\n",
    "    def __init__(self, n):\n",
    "        self.matrix = []\n",
    "        for i in range(n): \n",
    "            self.matrix.append([0 for i in range(n)])\n",
    "        self.size = n\n",
    "        self.edges = []\n",
    "        for i in range(1, n+1): \n",
    "            self.edges.append(i)"
   ]
  },
  {
   "cell_type": "code",
   "execution_count": 5,
   "id": "dbd7277e-ec59-4832-b469-f411ffdbd01f",
   "metadata": {},
   "outputs": [],
   "source": [
    "# Клас орієнтований граф, створює граф з n вершин та матрицю суміжності, можна додавати/видаляти вершини та ребра\n",
    "class Directed_graph(object):\n",
    "    def __init__(self, n, vertices:list):\n",
    "        A = Graph(n)\n",
    "        self.matrix = A.matrix\n",
    "        self.size = A.size\n",
    "        self.edges = A.edges\n",
    "        for i in range(self.size):\n",
    "            for j in range(self.size):\n",
    "                if (vertices[i][j] != 0)&(vertices[i][j] != 1):\n",
    "                    raise Exception(\"Adjacency matrix can only contain ones and zeroes\")\n",
    "        for i in range(self.size):\n",
    "            for j in range(self.size):\n",
    "                A.matrix[i][j] = vertices[i][j]\n",
    "    def add_edge(self, edge):\n",
    "        self.edges.append(edge)\n",
    "        for i in range(self.size):\n",
    "            self.matrix[i].append(0)\n",
    "        self.size+=1\n",
    "        self.matrix.append([0]*self.size)\n",
    "    def delete_edge(self, edge):\n",
    "        if (edge > max(self.edges)) or (edge < min(self.edges)):\n",
    "            raise Exception(\"This edge is not in the graph.\")\n",
    "        else:\n",
    "            if edge in self.edges:\n",
    "                ind = self.edges.index(edge)\n",
    "                self.edges.remove(edge)\n",
    "                for i in range(self.size):\n",
    "                    self.matrix[i].remove(self.matrix[i][ind])\n",
    "                del(self.matrix[ind])\n",
    "                self.size-=1\n",
    "            else:\n",
    "                raise Exception(\"This edge is not in the graph.\")\n",
    "    def add_vertice(self, edge1, edge2):\n",
    "        if (edge1 > max(self.edges)) or (edge1 < min(self.edges)) or (edge2 > max(self.edges)) or (edge2 < min(self.edges)):\n",
    "            raise Exception(\"At least one of the edges is not in the graph.\")\n",
    "        else:\n",
    "            if (edge1 in self.edges)&(edge2 in self.edges):\n",
    "                self.matrix[edge1-1][edge2-1] = 1\n",
    "            else:\n",
    "                raise Exception(\"At least one of the edges is not in the graph.\")\n",
    "    def delete_vertice(self, edge1, edge2):\n",
    "        if (edge1 > max(self.edges)) or (edge1 < min(self.edges)) or (edge2 > max(self.edges)) or (edge2 < min(self.edges)):\n",
    "            raise Exception(\"At least one of the edges is not in the graph.\")\n",
    "        else:\n",
    "            if (edge1 in self.edges)&(edge2 in self.edges):\n",
    "                self.matrix[edge1-1][edge2-1] = 0\n",
    "            else:\n",
    "                raise Exception(\"At least one of the edges is not in the graph.\")"
   ]
  },
  {
   "cell_type": "code",
   "execution_count": 7,
   "id": "5d5347d4-e900-4870-bffd-13b70a5a6bcd",
   "metadata": {},
   "outputs": [],
   "source": [
    "# Клас неорієнтований граф, відрізняється від орієнтованого графу тим, що при додаванні/видаленні ребра між a i b\n",
    "# в матриці суміжності автоматично змінюється також ребро між b i a\n",
    "class Undirected_graph(object):\n",
    "    def __init__(self, n, vertices:list):\n",
    "        A = Graph(n)\n",
    "        self.matrix = A.matrix\n",
    "        self.size = A.size\n",
    "        self.edges = A.edges\n",
    "        for i in range(self.size):\n",
    "            for j in range(self.size):\n",
    "                if (vertices[i][j] != 0)&(vertices[i][j] != 1):\n",
    "                    raise Exception(\"Adjacency matrix can only contain ones and zeroes\")\n",
    "                if vertices[i][j] != vertices[j][i]:\n",
    "                    raise Exception(\"In undirected graph it is not possile for a vertice to exist between a and b but not b and a.\")\n",
    "        for i in range(self.size):\n",
    "            for j in range(self.size):\n",
    "                A.matrix[i][j] = vertices[i][j]\n",
    "    def add_edge(self, edge):\n",
    "        self.edges.append(edge)\n",
    "        for i in range(self.size):\n",
    "            self.matrix[i].append(0)\n",
    "        self.size+=1\n",
    "        self.matrix.append([0]*self.size)\n",
    "    def delete_edge(self, edge):\n",
    "        if (edge > max(self.edges)) or (edge < min(self.edges)):\n",
    "            raise Exception(\"This edge is not in the graph.\")\n",
    "        else:\n",
    "            if edge in self.edges:\n",
    "                ind = self.edges.index(edge)\n",
    "                self.edges.remove(edge)\n",
    "                for i in range(n):\n",
    "                    self.matrix[i].remove(self.matrix[i][ind])\n",
    "                del(self.matrix[ind])\n",
    "                self.size-=1\n",
    "            else:\n",
    "                raise Exception(\"This edge is not in the graph.\")\n",
    "    def add_vertice(self, edge1, edge2):\n",
    "        if (edge1 > max(self.edges)) or (edge1 < min(self.edges)) or (edge2 > max(self.edges)) or (edge2 < min(self.edges)):\n",
    "            raise Exception(\"At least one of the edges is not in the graph.\")\n",
    "        else:\n",
    "            if (edge1 in self.edges)&(edge2 in self.edges):\n",
    "                self.matrix[edge1-1][edge2-1] = 1\n",
    "                self.matrix[edge2-1][edge1-1] = 1\n",
    "            else:\n",
    "                raise Exception(\"At least one of the edges is not in the graph.\")\n",
    "    def delete_vertice(self, edge1, edge2):\n",
    "        if (edge1 > max(self.edges)) or (edge1 < min(self.edges)) or (edge2 > max(self.edges)) or (edge2 < min(self.edges)):\n",
    "            raise Exception(\"At least one of the edges is not in the graph.\")\n",
    "        else:\n",
    "            if (edge1 in self.edges)&(edge2 in self.edges):\n",
    "                self.matrix[edge1-1][edge2-1] = 0\n",
    "                self.matrix[edge2-1][edge1-1] = 0\n",
    "            else:\n",
    "                raise Exception(\"At least one of the edges is not in the graph.\")"
   ]
  },
  {
   "cell_type": "code",
   "execution_count": 1407,
   "id": "ef57692d-0812-420e-996b-19367586b9e2",
   "metadata": {},
   "outputs": [],
   "source": [
    "# Клас орієнтований зважений граф, відрізняється від орієнтованого графу тим, що має ще один параметр ініціалізації - матрицю ваг ребер\n",
    "class Directed_weighted_graph(object):\n",
    "    def __init__(self, n, vertices:list, weights:list):\n",
    "        A = Directed_graph(n, vertices)\n",
    "        self.weights = weights\n",
    "        self.matrix = A.matrix\n",
    "        self.size = A.size\n",
    "        self.edges = A.edges\n",
    "        for i in range(self.size):\n",
    "            for j in range(self.size):\n",
    "                if (self.matrix[i][j] == 1)&(self.weights[i][j] == -1):\n",
    "                    raise Exception(\"Each vertece has to have a weight, that can not be -1. Please, choose a different value.\")\n",
    "                elif (self.matrix[i][j] == 0)&(self.weights[i][j] != -1):\n",
    "                    raise Exception(\"This vertece does not exist but has a weight. Please, change the weight value to -1.\")\n",
    "    def add_edge(self, edge):\n",
    "        self.edges.append(edge)\n",
    "        for i in range(self.size):\n",
    "            self.matrix[i].append(0)\n",
    "            self.weights[i].append(-1)\n",
    "        self.size+=1\n",
    "        self.matrix.append([0]*self.size)\n",
    "        self.weights.append([-1]*self.size)\n",
    "    def delete_edge(self, edge):\n",
    "        if (edge > max(self.edges)) or (edge < min(self.edges)):\n",
    "            raise Exception(\"This edge is not in the graph.\")\n",
    "        else:\n",
    "            if edge in self.edges:\n",
    "                ind = self.edges.index(edge)\n",
    "                self.edges.remove(edge)\n",
    "                for i in range(self.size):\n",
    "                    del self.matrix[i][ind]\n",
    "                    del self.weights[i][ind]\n",
    "                del self.matrix[ind]\n",
    "                del self.weights[ind]\n",
    "                self.size-=1\n",
    "            else:\n",
    "                raise Exception(\"This edge is not in the graph.\")\n",
    "    def add_vertice(self, edge1, edge2, weight):\n",
    "        if (edge1 > max(self.edges)) or (edge1 < min(self.edges)) or (edge2 > max(self.edges)) or (edge2 < min(self.edges)):\n",
    "            raise Exception(\"At least one of the edges is not in the graph.\")\n",
    "        else:\n",
    "            if (edge1 in self.edges)&(edge2 in self.edges):\n",
    "                self.matrix[edge1-1][edge2-1] = 1\n",
    "                self.weights[edge1-1][edge2-1] = weight\n",
    "            else:\n",
    "                raise Exception(\"At least one of the edges is not in the graph.\")\n",
    "    def delete_vertice(self, edge1, edge2):\n",
    "        if (edge1 > max(self.edges)) or (edge1 < min(self.edges)) or (edge2 > max(self.edges)) or (edge2 < min(self.edges)):\n",
    "            raise Exception(\"At least one of the edges is not in the graph.\")\n",
    "        else:\n",
    "            if (edge1 in self.edges)&(edge2 in self.edges):\n",
    "                self.matrix[edge1-1][edge2-1] = 0\n",
    "                self.weights[edge1-1][edge2-1] = -1\n",
    "            else:\n",
    "                raise Exception(\"At least one of the edges is not in the graph.\")"
   ]
  },
  {
   "cell_type": "code",
   "execution_count": 9,
   "id": "cfbf4186-f402-4232-9a5d-daf4c2f0bfa3",
   "metadata": {},
   "outputs": [],
   "source": [
    "# Клас неорієнтований зважений граф, відрізняється від орієнтованого зваженого графу тим, що при додаванні/видаленні ребра між a i b\n",
    "# в матриці суміжності автоматично змінюється також ребро між b i a, і в матриці ваг автоматично додається вага між a i b та b i a\n",
    "class Undirected_weighted_graph(object):\n",
    "    def __init__(self, n, vertices:list, weights:list):\n",
    "        A = Undirected_graph(n, vertices)\n",
    "        self.matrix = A.matrix\n",
    "        self.size = A.size\n",
    "        self.edges = A.edges\n",
    "        self.weights = weights\n",
    "        for i in range(self.size):\n",
    "            for j in range(self.size):\n",
    "                if (self.matrix[i][j] == 1)&(self.weights[i][j] == -1):\n",
    "                    raise Exception(\"Each vertece has to have a weight, that can not be -1. Please, choose a different value.\")\n",
    "                elif (self.matrix[i][j] == 0)&(self.weights[i][j] != -1):\n",
    "                    raise Exception(\"This vertece does not exist but has a weight. Please, change the weight value to -1.\")\n",
    "                elif (self.matrix[i][j] == 1)&(self.weights[i][j] != self.weights[j][i]):\n",
    "                    raise Exception(\"This graph is undirected, so there are two weight values for one vartece. Please, choose one.\")\n",
    "    def add_edge(self, edge):\n",
    "        self.edges.append(edge)\n",
    "        for i in range(self.size):\n",
    "            self.matrix[i].append(0)\n",
    "            self.weights[i].append(-1)\n",
    "        self.size+=1\n",
    "        self.matrix.append([0]*self.size)\n",
    "        self.weights.append([-1]*self.size)\n",
    "    def delete_edge(self, edge):\n",
    "        if (edge > max(self.edges)) or (edge < min(self.edges)):\n",
    "            raise Exception(\"This edge is not in the graph.\")\n",
    "        else:\n",
    "            if edge in self.edges:\n",
    "                ind = self.edges.index(edge)\n",
    "                self.edges.remove(edge)\n",
    "                for i in range(self.size):\n",
    "                    del self.matrix[i][ind]\n",
    "                    del self.weights[i][ind]\n",
    "                del self.matrix[ind]\n",
    "                del self.weights[ind]\n",
    "                self.size-=1\n",
    "            else:\n",
    "                raise Exception(\"This edge is not in the graph.\")\n",
    "    def add_vertice(self, edge1, edge2, weight):\n",
    "        if (edge1 > max(self.edges)) or (edge1 < min(self.edges)) or (edge2 > max(self.edges)) or (edge2 < min(self.edges)):\n",
    "            raise Exception(\"At least one of the edges is not in the graph.\")\n",
    "        else:\n",
    "            if (edge1 in self.edges)&(edge2 in self.edges):\n",
    "                self.matrix[edge1-1][edge2-1] = 1\n",
    "                self.matrix[edge2-1][edge1-1] = 1\n",
    "                self.weights[edge1-1][edge2-1] = weight\n",
    "                self.weights[edge2-1][edge1-1] = weight\n",
    "            else:\n",
    "                raise Exception(\"At least one of the edges is not in the graph.\")\n",
    "    def delete_vertice(self, edge1, edge2):\n",
    "        if (edge1 > max(self.edges)) or (edge1 < min(self.edges)) or (edge2 > max(self.edges)) or (edge2 < min(self.edges)):\n",
    "            raise Exception(\"At least one of the edges is not in the graph.\")\n",
    "        else:\n",
    "            if (edge1 in self.edges)&(edge2 in self.edges):\n",
    "                self.matrix[edge1-1][edge2-1] = 0\n",
    "                self.matrix[edge2-1][edge1-1] = 0\n",
    "                self.weights[edge1-1][edge2-1] = -1\n",
    "                self.weights[edge2-1][edge1-1] = -1\n",
    "            else:\n",
    "                raise Exception(\"At least one of the edges is not in the graph.\")"
   ]
  },
  {
   "cell_type": "code",
   "execution_count": 30,
   "id": "eba37e82-5f1b-447f-95cd-97f8beb519ae",
   "metadata": {},
   "outputs": [],
   "source": [
    "# Функція для конвертування графу з матриці в списки і навпаки. Якщо зазначити, що weighted = True, то матриця ваг теж буде переведена в списки\n",
    "def convert_graph(graph, weighted:bool):\n",
    "    if type(graph.matrix) == list:\n",
    "        vertices = {}\n",
    "        for i in range(graph.size):\n",
    "            vertices[\"{key}\".format(key = (i+1))] = [graph.edges[i] for i, x in enumerate(graph.matrix[i]) if x == 1]\n",
    "        graph.matrix = vertices\n",
    "        if weighted == True:\n",
    "            weights = {}\n",
    "            for i in range(graph.size):\n",
    "                weights[\"{key}\".format(key = (i+1))] = graph.weights[i]\n",
    "            graph.weights = weights\n",
    "    elif type(graph.matrix) == dict:\n",
    "        vertices = [] \n",
    "        for i in range(graph.size):\n",
    "            lst = []\n",
    "            for j in range(graph.size):\n",
    "                lst.append(int(graph.edges[i] in graph.matrix[\"{key}\".format(key = (j+1))]))\n",
    "            vertices.append(lst)\n",
    "        graph.matrix = vertices\n",
    "        if weighted == True:\n",
    "            weights = []\n",
    "            for i in range(graph.size):\n",
    "                weights.append(graph.weights[\"{key}\".format(key = (i+1))])\n",
    "            graph.weights = weights\n",
    "    return vertices"
   ]
  },
  {
   "cell_type": "code",
   "execution_count": 11,
   "id": "456bad47-9be3-44af-a4c7-8bafb5d02505",
   "metadata": {},
   "outputs": [],
   "source": [
    "A = Directed_graph(3, [[1, 0, 0], [1, 0, 0], [1, 0, 0]])"
   ]
  },
  {
   "cell_type": "code",
   "execution_count": 13,
   "id": "5df77b1f-f32a-48ed-b971-dba1012be97d",
   "metadata": {},
   "outputs": [],
   "source": [
    "A.add_edge(4)"
   ]
  },
  {
   "cell_type": "code",
   "execution_count": 15,
   "id": "fc8687c7-8467-4a50-9f92-cab6f1516ddd",
   "metadata": {},
   "outputs": [
    {
     "data": {
      "text/plain": [
       "[1, 2, 3, 4]"
      ]
     },
     "execution_count": 15,
     "metadata": {},
     "output_type": "execute_result"
    }
   ],
   "source": [
    "A.edges"
   ]
  },
  {
   "cell_type": "code",
   "execution_count": 17,
   "id": "d63ca7b4-83f5-46df-8f82-b63cd1c6b913",
   "metadata": {},
   "outputs": [
    {
     "data": {
      "text/plain": [
       "[[1, 0, 0, 0], [1, 0, 0, 0], [1, 0, 0, 0], [0, 0, 0, 0]]"
      ]
     },
     "execution_count": 17,
     "metadata": {},
     "output_type": "execute_result"
    }
   ],
   "source": [
    "A.matrix"
   ]
  },
  {
   "cell_type": "code",
   "execution_count": 19,
   "id": "722678d0-1e1c-4b2c-9d7f-231f306f434e",
   "metadata": {},
   "outputs": [],
   "source": [
    "A.delete_edge(4)"
   ]
  },
  {
   "cell_type": "code",
   "execution_count": 21,
   "id": "7067c124-1425-46c6-bfbb-8ea249ce7acf",
   "metadata": {},
   "outputs": [
    {
     "data": {
      "text/plain": [
       "[1, 2, 3]"
      ]
     },
     "execution_count": 21,
     "metadata": {},
     "output_type": "execute_result"
    }
   ],
   "source": [
    "A.edges"
   ]
  },
  {
   "cell_type": "code",
   "execution_count": 23,
   "id": "485404ff-6379-45d9-96a2-37e3cbd28181",
   "metadata": {},
   "outputs": [],
   "source": [
    "A.add_vertice(edge1 = 1, edge2 = 2)"
   ]
  },
  {
   "cell_type": "code",
   "execution_count": 25,
   "id": "e604086e-f0fd-4394-9108-9c6d09481938",
   "metadata": {},
   "outputs": [
    {
     "data": {
      "text/plain": [
       "[[1, 1, 0], [1, 0, 0], [1, 0, 0]]"
      ]
     },
     "execution_count": 25,
     "metadata": {},
     "output_type": "execute_result"
    }
   ],
   "source": [
    "A.matrix"
   ]
  },
  {
   "cell_type": "code",
   "execution_count": 32,
   "id": "06dffb2f-b243-4bee-89a9-3bd7a95724fe",
   "metadata": {},
   "outputs": [
    {
     "data": {
      "text/plain": [
       "{'1': [1, 2], '2': [1], '3': [1]}"
      ]
     },
     "execution_count": 32,
     "metadata": {},
     "output_type": "execute_result"
    }
   ],
   "source": [
    "convert_graph(A, weighted = False)"
   ]
  },
  {
   "cell_type": "code",
   "execution_count": null,
   "id": "a0ecc02b-6dd6-4d60-9261-77921df5be07",
   "metadata": {},
   "outputs": [],
   "source": [
    "B = Undirected_weighted_graph(4, [[0, 1, 0, 1], [1, 0, 0, 0], [0, 0, 0, 1], [1, 0, 1, 1]], [[-1, 0.9, -1, 0.5], [0.9, -1, -1, -1], [-1, -1, -1, 0.7], [0.5, -1, 0.7, 0.1]]) "
   ]
  },
  {
   "cell_type": "code",
   "execution_count": 1413,
   "id": "804cec2e-1475-468c-9c31-c7a07fd27e0b",
   "metadata": {},
   "outputs": [
    {
     "data": {
      "text/plain": [
       "[[-1, 0.9, -1, 0.5], [0.9, -1, -1, -1], [-1, -1, -1, 0.7], [0.5, -1, 0.7, 0.1]]"
      ]
     },
     "execution_count": 1413,
     "metadata": {},
     "output_type": "execute_result"
    }
   ],
   "source": [
    "B.weights"
   ]
  },
  {
   "cell_type": "code",
   "execution_count": 1415,
   "id": "8b873e64-e13c-4438-9643-ca0a088812fb",
   "metadata": {},
   "outputs": [],
   "source": [
    "B.add_vertice(1, 3, 0.3)"
   ]
  },
  {
   "cell_type": "code",
   "execution_count": 1417,
   "id": "c74972e0-6be8-4ecb-96ea-fa08dea4a35b",
   "metadata": {},
   "outputs": [
    {
     "data": {
      "text/plain": [
       "[[-1, 0.9, 0.3, 0.5],\n",
       " [0.9, -1, -1, -1],\n",
       " [0.3, -1, -1, 0.7],\n",
       " [0.5, -1, 0.7, 0.1]]"
      ]
     },
     "execution_count": 1417,
     "metadata": {},
     "output_type": "execute_result"
    }
   ],
   "source": [
    "B.weights"
   ]
  },
  {
   "cell_type": "code",
   "execution_count": 1419,
   "id": "58d9e090-e2af-495b-8cfa-e36f343ffd87",
   "metadata": {},
   "outputs": [],
   "source": [
    "B.add_edge(5)"
   ]
  },
  {
   "cell_type": "code",
   "execution_count": 1421,
   "id": "87fb63db-42d1-4f76-8e69-9fef7498c9f2",
   "metadata": {},
   "outputs": [
    {
     "data": {
      "text/plain": [
       "[[0, 1, 1, 1, 0],\n",
       " [1, 0, 0, 0, 0],\n",
       " [1, 0, 0, 1, 0],\n",
       " [1, 0, 1, 1, 0],\n",
       " [0, 0, 0, 0, 0]]"
      ]
     },
     "execution_count": 1421,
     "metadata": {},
     "output_type": "execute_result"
    }
   ],
   "source": [
    "B.matrix"
   ]
  },
  {
   "cell_type": "code",
   "execution_count": 1423,
   "id": "4f900272-76a9-4d3f-93a4-e1db198b6645",
   "metadata": {},
   "outputs": [
    {
     "data": {
      "text/plain": [
       "[[-1, 0.9, 0.3, 0.5, -1],\n",
       " [0.9, -1, -1, -1, -1],\n",
       " [0.3, -1, -1, 0.7, -1],\n",
       " [0.5, -1, 0.7, 0.1, -1],\n",
       " [-1, -1, -1, -1, -1]]"
      ]
     },
     "execution_count": 1423,
     "metadata": {},
     "output_type": "execute_result"
    }
   ],
   "source": [
    "B.weights"
   ]
  },
  {
   "cell_type": "code",
   "execution_count": 1425,
   "id": "43326408-2ae8-42e5-84d2-3fd8c5b2d585",
   "metadata": {},
   "outputs": [
    {
     "data": {
      "text/plain": [
       "{'1': [2, 3, 4], '2': [1], '3': [1, 4], '4': [1, 3, 4], '5': []}"
      ]
     },
     "execution_count": 1425,
     "metadata": {},
     "output_type": "execute_result"
    }
   ],
   "source": [
    "convert_graph(B, weighted = True)"
   ]
  },
  {
   "cell_type": "code",
   "execution_count": 1427,
   "id": "32d2af70-3216-4faf-8a5a-fee2d0c4e6aa",
   "metadata": {},
   "outputs": [
    {
     "data": {
      "text/plain": [
       "{'1': [-1, 0.9, 0.3, 0.5, -1],\n",
       " '2': [0.9, -1, -1, -1, -1],\n",
       " '3': [0.3, -1, -1, 0.7, -1],\n",
       " '4': [0.5, -1, 0.7, 0.1, -1],\n",
       " '5': [-1, -1, -1, -1, -1]}"
      ]
     },
     "execution_count": 1427,
     "metadata": {},
     "output_type": "execute_result"
    }
   ],
   "source": [
    "B.weights"
   ]
  },
  {
   "cell_type": "code",
   "execution_count": 1429,
   "id": "81d3503a-e953-4d9f-8a7d-4eaf631f4633",
   "metadata": {},
   "outputs": [
    {
     "data": {
      "text/plain": [
       "[[0, 1, 1, 1, 0],\n",
       " [1, 0, 0, 0, 0],\n",
       " [1, 0, 0, 1, 0],\n",
       " [1, 0, 1, 1, 0],\n",
       " [0, 0, 0, 0, 0]]"
      ]
     },
     "execution_count": 1429,
     "metadata": {},
     "output_type": "execute_result"
    }
   ],
   "source": [
    "convert_graph(B, weighted = True)"
   ]
  },
  {
   "cell_type": "code",
   "execution_count": 1431,
   "id": "0e0854ae-4a8d-421e-aaf9-50098f7e9449",
   "metadata": {},
   "outputs": [
    {
     "data": {
      "text/plain": [
       "[[-1, 0.9, 0.3, 0.5, -1],\n",
       " [0.9, -1, -1, -1, -1],\n",
       " [0.3, -1, -1, 0.7, -1],\n",
       " [0.5, -1, 0.7, 0.1, -1],\n",
       " [-1, -1, -1, -1, -1]]"
      ]
     },
     "execution_count": 1431,
     "metadata": {},
     "output_type": "execute_result"
    }
   ],
   "source": [
    "B.weights"
   ]
  },
  {
   "cell_type": "code",
   "execution_count": 1433,
   "id": "cc5c4756-9d38-4fce-b9fc-8b005ed6933a",
   "metadata": {},
   "outputs": [],
   "source": [
    "B.add_edge(8)"
   ]
  },
  {
   "cell_type": "code",
   "execution_count": 1435,
   "id": "42b18ba5-f4e3-448b-994e-19de00dc3d97",
   "metadata": {},
   "outputs": [
    {
     "data": {
      "text/plain": [
       "[[0, 1, 1, 1, 0, 0],\n",
       " [1, 0, 0, 0, 0, 0],\n",
       " [1, 0, 0, 1, 0, 0],\n",
       " [1, 0, 1, 1, 0, 0],\n",
       " [0, 0, 0, 0, 0, 0],\n",
       " [0, 0, 0, 0, 0, 0]]"
      ]
     },
     "execution_count": 1435,
     "metadata": {},
     "output_type": "execute_result"
    }
   ],
   "source": [
    "B.matrix"
   ]
  },
  {
   "cell_type": "code",
   "execution_count": 1437,
   "id": "f01bea2d-a429-4fee-95ba-eb74177bbf46",
   "metadata": {},
   "outputs": [],
   "source": [
    "B.delete_edge(8)"
   ]
  },
  {
   "cell_type": "code",
   "execution_count": 1439,
   "id": "5941363a-3590-46e2-8b5f-5e57e3d4420b",
   "metadata": {},
   "outputs": [
    {
     "data": {
      "text/plain": [
       "[1, 2, 3, 4, 5]"
      ]
     },
     "execution_count": 1439,
     "metadata": {},
     "output_type": "execute_result"
    }
   ],
   "source": [
    "B.edges"
   ]
  },
  {
   "cell_type": "code",
   "execution_count": 1441,
   "id": "55e48eb2-4021-4d66-b91b-550ff0179376",
   "metadata": {},
   "outputs": [
    {
     "data": {
      "text/plain": [
       "[[0, 1, 1, 1, 0],\n",
       " [1, 0, 0, 0, 0],\n",
       " [1, 0, 0, 1, 0],\n",
       " [1, 0, 1, 1, 0],\n",
       " [0, 0, 0, 0, 0]]"
      ]
     },
     "execution_count": 1441,
     "metadata": {},
     "output_type": "execute_result"
    }
   ],
   "source": [
    "B.matrix"
   ]
  },
  {
   "cell_type": "code",
   "execution_count": 1443,
   "id": "224b01fb-9bbd-43da-9cdf-f3b47d2b05a0",
   "metadata": {},
   "outputs": [
    {
     "data": {
      "text/plain": [
       "[[-1, 0.9, 0.3, 0.5, -1],\n",
       " [0.9, -1, -1, -1, -1],\n",
       " [0.3, -1, -1, 0.7, -1],\n",
       " [0.5, -1, 0.7, 0.1, -1],\n",
       " [-1, -1, -1, -1, -1]]"
      ]
     },
     "execution_count": 1443,
     "metadata": {},
     "output_type": "execute_result"
    }
   ],
   "source": [
    "B.weights"
   ]
  },
  {
   "cell_type": "code",
   "execution_count": 1447,
   "id": "b0f844c7-f3a1-408c-86bf-2a3251d231fe",
   "metadata": {},
   "outputs": [],
   "source": [
    "B.delete_vertice(1, 3)"
   ]
  },
  {
   "cell_type": "code",
   "execution_count": 1451,
   "id": "f364d787-9fca-4609-b2bf-75ec0d42178d",
   "metadata": {},
   "outputs": [
    {
     "data": {
      "text/plain": [
       "[[0, 1, 0, 1, 0],\n",
       " [1, 0, 0, 0, 0],\n",
       " [0, 0, 0, 1, 0],\n",
       " [1, 0, 1, 1, 0],\n",
       " [0, 0, 0, 0, 0]]"
      ]
     },
     "execution_count": 1451,
     "metadata": {},
     "output_type": "execute_result"
    }
   ],
   "source": [
    "B.matrix"
   ]
  },
  {
   "cell_type": "code",
   "execution_count": 1453,
   "id": "d26168b4-f8c2-47db-b718-d05cbd4f1314",
   "metadata": {},
   "outputs": [
    {
     "data": {
      "text/plain": [
       "[[-1, 0.9, -1, 0.5, -1],\n",
       " [0.9, -1, -1, -1, -1],\n",
       " [-1, -1, -1, 0.7, -1],\n",
       " [0.5, -1, 0.7, 0.1, -1],\n",
       " [-1, -1, -1, -1, -1]]"
      ]
     },
     "execution_count": 1453,
     "metadata": {},
     "output_type": "execute_result"
    }
   ],
   "source": [
    "B.weights"
   ]
  },
  {
   "cell_type": "code",
   "execution_count": 5,
   "id": "439a42b0-5211-4624-a50c-2fe8b88b8535",
   "metadata": {},
   "outputs": [],
   "source": [
    "# Функція для генерації графу, який може бути зваженим або ні, орієнтованим або ні, має параметр р, що означає ймовірність появи ребра, та максимальну\n",
    "# і мінімальну ваги\n",
    "def generate_graph(n, weighted:bool, directed:bool, p:float, min_weight = None, max_weight = None):\n",
    "    if (p > 1)or(p < 0):\n",
    "        raise Exception(\"Probability of a vertice existing must be between 0 and 1.\")\n",
    "    else:\n",
    "        if directed == True:\n",
    "            matrix = [[0.5]*n]*n\n",
    "            for i in range(n):\n",
    "                for j in range(n):\n",
    "                    matrix[i][j] = random.choices([0, 1], weights=(1-p, p))[0]\n",
    "            if weighted == True:\n",
    "                weights = [[0.5]*n]*n\n",
    "                for i in range(n):\n",
    "                    for j in range(n):\n",
    "                        if matrix[i][j] == 1:\n",
    "                            weights[i][j] = random.uniform(min_weight, max_weight)\n",
    "                        else:\n",
    "                            weights[i][j] = -1\n",
    "                graph = Directed_weighted_graph(n, matrix, weights)\n",
    "            elif weighted == False:\n",
    "                graph = Directed_graph(n, matrix)\n",
    "            else:\n",
    "                raise Exception(\"'weighted' has to equal True of False\")\n",
    "        elif directed == False:\n",
    "            matrix = [[0.5]*n]*n\n",
    "            for i in range(n):\n",
    "                for j in range(n):\n",
    "                    if matrix[i][j] == 0.5:\n",
    "                        matrix[i][j] = matrix[j][i] = random.choices([0, 1], weights=(1-p, p))[0]\n",
    "                    else:\n",
    "                        pass\n",
    "            if weighted == True:\n",
    "                weights = [[0.5]*n]*n\n",
    "                for i in range(n):\n",
    "                    for j in range(n):\n",
    "                        if matrix[i][j] == 1:\n",
    "                            weights[i][j] = random.uniform(min_weight, max_weight)\n",
    "                        else:\n",
    "                            weights[i][j] = -1\n",
    "                graph = Undirected_weighted_graph(n, matrix, weights)\n",
    "            elif weighted == False:\n",
    "                graph = Undirected_graph(n, matrix)\n",
    "            else:\n",
    "                raise Exception(\"'weighted' has to equal True of False\")\n",
    "        else:\n",
    "            raise Exception(\"'directed' has to equal True of False\")\n",
    "    return graph"
   ]
  },
  {
   "cell_type": "code",
   "execution_count": 1566,
   "id": "ae69b519-35e9-4ee5-a0ee-095bbd163bcc",
   "metadata": {},
   "outputs": [],
   "source": [
    "F = generate_graph(5, weighted=True, directed=True, p=0.3, min_weight = 4, max_weight = 10)"
   ]
  },
  {
   "cell_type": "code",
   "execution_count": 1568,
   "id": "81badd6e-85fe-4830-86a2-742cdc8cfe1c",
   "metadata": {},
   "outputs": [
    {
     "data": {
      "text/plain": [
       "[[1, 1, 0, 0, 0],\n",
       " [1, 1, 0, 0, 0],\n",
       " [1, 1, 0, 0, 0],\n",
       " [1, 1, 0, 0, 0],\n",
       " [1, 1, 0, 0, 0]]"
      ]
     },
     "execution_count": 1568,
     "metadata": {},
     "output_type": "execute_result"
    }
   ],
   "source": [
    "F.matrix"
   ]
  },
  {
   "cell_type": "code",
   "execution_count": 1570,
   "id": "9b133f0d-a1ae-432d-8999-0f57eb30d0e9",
   "metadata": {},
   "outputs": [
    {
     "data": {
      "text/plain": [
       "[[8.891200664740378, 6.663319113483164, -1, -1, -1],\n",
       " [8.891200664740378, 6.663319113483164, -1, -1, -1],\n",
       " [8.891200664740378, 6.663319113483164, -1, -1, -1],\n",
       " [8.891200664740378, 6.663319113483164, -1, -1, -1],\n",
       " [8.891200664740378, 6.663319113483164, -1, -1, -1]]"
      ]
     },
     "execution_count": 1570,
     "metadata": {},
     "output_type": "execute_result"
    }
   ],
   "source": [
    "F.weights"
   ]
  },
  {
   "cell_type": "code",
   "execution_count": 1572,
   "id": "5ed29bd8-9a22-425a-b5ca-87a616b7ee9d",
   "metadata": {},
   "outputs": [
    {
     "data": {
      "text/plain": [
       "[1, 2, 3, 4, 5]"
      ]
     },
     "execution_count": 1572,
     "metadata": {},
     "output_type": "execute_result"
    }
   ],
   "source": [
    "F.edges"
   ]
  },
  {
   "cell_type": "code",
   "execution_count": 1574,
   "id": "b4c5739b-cbdd-43b1-a716-7a710bbece2e",
   "metadata": {},
   "outputs": [
    {
     "data": {
      "text/plain": [
       "{'1': [1, 2], '2': [1, 2], '3': [1, 2], '4': [1, 2], '5': [1, 2]}"
      ]
     },
     "execution_count": 1574,
     "metadata": {},
     "output_type": "execute_result"
    }
   ],
   "source": [
    "convert_graph(F, True)"
   ]
  },
  {
   "cell_type": "code",
   "execution_count": 1576,
   "id": "5a7ad5d4-715e-48ce-b93c-791090f6e899",
   "metadata": {},
   "outputs": [
    {
     "data": {
      "text/plain": [
       "{'1': [8.891200664740378, 6.663319113483164, -1, -1, -1],\n",
       " '2': [8.891200664740378, 6.663319113483164, -1, -1, -1],\n",
       " '3': [8.891200664740378, 6.663319113483164, -1, -1, -1],\n",
       " '4': [8.891200664740378, 6.663319113483164, -1, -1, -1],\n",
       " '5': [8.891200664740378, 6.663319113483164, -1, -1, -1]}"
      ]
     },
     "execution_count": 1576,
     "metadata": {},
     "output_type": "execute_result"
    }
   ],
   "source": [
    "F.weights"
   ]
  },
  {
   "cell_type": "code",
   "execution_count": 10,
   "id": "fbce5d10-b023-49d7-b0d1-ffec774e3a74",
   "metadata": {},
   "outputs": [],
   "source": [
    "K = Undirected_graph(4, [[0, 1, 0, 1], [1, 0, 0, 0], [0, 0, 0, 1], [1, 0, 1, 1]])"
   ]
  },
  {
   "cell_type": "code",
   "execution_count": 12,
   "id": "cae9c3ad-df7c-48a4-960e-2dcc38c02a7a",
   "metadata": {},
   "outputs": [
    {
     "data": {
      "text/plain": [
       "[[0, 1, 0, 1], [1, 0, 0, 0], [0, 0, 0, 1], [1, 0, 1, 1]]"
      ]
     },
     "execution_count": 12,
     "metadata": {},
     "output_type": "execute_result"
    }
   ],
   "source": [
    "K.matrix"
   ]
  },
  {
   "cell_type": "code",
   "execution_count": 14,
   "id": "25cf8990-3b31-4a75-8b4d-50b54cb62361",
   "metadata": {},
   "outputs": [],
   "source": [
    "K.delete_vertice(1, 2)"
   ]
  },
  {
   "cell_type": "code",
   "execution_count": 16,
   "id": "f35d9fae-47cd-4ee1-9d08-2a19a2ab2c1a",
   "metadata": {},
   "outputs": [
    {
     "data": {
      "text/plain": [
       "[[0, 0, 0, 1], [0, 0, 0, 0], [0, 0, 0, 1], [1, 0, 1, 1]]"
      ]
     },
     "execution_count": 16,
     "metadata": {},
     "output_type": "execute_result"
    }
   ],
   "source": [
    "K.matrix"
   ]
  },
  {
   "cell_type": "code",
   "execution_count": null,
   "id": "33fe3e53-4fa1-40a9-be17-15f9a10331d2",
   "metadata": {},
   "outputs": [],
   "source": []
  }
 ],
 "metadata": {
  "kernelspec": {
   "display_name": "Python 3 (ipykernel)",
   "language": "python",
   "name": "python3"
  },
  "language_info": {
   "codemirror_mode": {
    "name": "ipython",
    "version": 3
   },
   "file_extension": ".py",
   "mimetype": "text/x-python",
   "name": "python",
   "nbconvert_exporter": "python",
   "pygments_lexer": "ipython3",
   "version": "3.12.4"
  }
 },
 "nbformat": 4,
 "nbformat_minor": 5
}
