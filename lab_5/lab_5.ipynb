{
 "cells": [
  {
   "cell_type": "code",
   "execution_count": 1,
   "id": "e9687327-d215-4580-aab6-3c27892b4079",
   "metadata": {},
   "outputs": [],
   "source": [
    "from copy import *"
   ]
  },
  {
   "cell_type": "code",
   "execution_count": null,
   "id": "383a18b8-55b0-4082-b0c8-d42d00d4e2eb",
   "metadata": {},
   "outputs": [],
   "source": [
    "class matrix:\n",
    "    def __init__(self, elements:list):\n",
    "        self.elements = elements\n",
    "        self.size = [len(self.elements), len(self.elements[0])] if len(self.elements) > 1 else [len(self.elements[0])]\n",
    "    def swap(self, i, j):\n",
    "        self.elements[i], self.elements[j] = self.elements[j], self.elements[i] \n",
    "    def transpose(self):\n",
    "        return matrix([[row[i] for row in self.elements] for i in range(self.size[0])])\n",
    "    def determinant(self, elements, size):\n",
    "        if size == 1:\n",
    "            return elements[0][0]\n",
    "        elif size == 2:\n",
    "            return elements[0][0] * elements[1][1] - \\\n",
    "            elements[0][1] * elements[1][0]\n",
    "        else:\n",
    "            res = 0\n",
    "            for col in range(size):\n",
    "                sub = [[0] * (size - 1) for _ in range(size - 1)]\n",
    "                for i in range(1, size):\n",
    "                    subcol = 0\n",
    "                    for j in range(size):\n",
    "                        if j == col:\n",
    "                            continue\n",
    "                        sub[i - 1][subcol] = elements[i][j]\n",
    "                        subcol += 1\n",
    "                if col % 2 == 0:\n",
    "                    sign = 1\n",
    "                else:\n",
    "                    sign = -1\n",
    "                res += sign * elements[0][col] * self.determinant(sub, size-1)     \n",
    "            return res\n",
    "    def minors(self):\n",
    "        result = []\n",
    "        for i in range(self.size[0]):\n",
    "            result.append([])\n",
    "        for i in range(self.size[0]):\n",
    "            for j in range(self.size[0]):\n",
    "                result[i].append(0)\n",
    "        for i in range(len(result)):\n",
    "            for j in range(len(result)):\n",
    "                c = deepcopy(self.elements)\n",
    "                for k in range(len(c)):\n",
    "                    del c[k][j]\n",
    "                del c[i]\n",
    "                m = matrix(c)\n",
    "                result[i][j] = m.determinant(m.elements, m.size[0])\n",
    "        return result\n",
    "    def alg_complement(self):\n",
    "        minor = self.minors()\n",
    "        result = deepcopy(minor)\n",
    "        for i in range(len(result)):\n",
    "            for j in range(len(result)):\n",
    "               result[i][j] = ((-1)**(i+j))*result[i][j]\n",
    "        return result\n",
    "    def invert(self):\n",
    "        det = self.determinant(self.elements, self.size[0])\n",
    "        if det == 0:\n",
    "            raise ValueError(\"Sorry, matrix is invertible.\")\n",
    "        alg_T = matrix(self.alg_complement()).transpose()\n",
    "        a = deepcopy(alg_T.elements)\n",
    "        for i in range(alg_T.size[0]):\n",
    "            for j in range(alg_T.size[0]):\n",
    "                a[i][j] = a[i][j]/det\n",
    "        return matrix(a)\n",
    "    def multiply(self, other, vector = False):\n",
    "        result = []\n",
    "        for i in range(self.size[0]):\n",
    "            result.append([])\n",
    "            for j in range(self.size[1]):\n",
    "                result[i].append(0)\n",
    "        if vector == False:\n",
    "            for i in range(self.size[0]): \n",
    "                for j in range(other.size[1]):\n",
    "                    for k in range(other.size[0]):\n",
    "                        result[i][j] += self.elements[i][k] * other.elements[k][j]\n",
    "        elif vector == True:\n",
    "            for i in range(self.size[0]): \n",
    "                for j in range(self.size[1]):\n",
    "                    result[i][j] += self.elements[i][j] * other.elements[0][j]\n",
    "        else:\n",
    "            raise ValueError(\"vector must equal True or False.\")\n",
    "        return result\n",
    "    def add(self, num):\n",
    "        for i in range(self.size[0]):\n",
    "            for j in range(self.size[1]):\n",
    "                self.elements[i][j] += num\n",
    "        return self.elements\n",
    "    def add_matrix(self, other):\n",
    "        for i in range(other.size[0]):\n",
    "            for j in range(other.size[1]):\n",
    "                self.add(self, other[i][j])\n",
    "        return self\n",
    "    def divide(self, other):\n",
    "        return self.multiply(other.invert())"
   ]
  },
  {
   "cell_type": "code",
   "execution_count": 109,
   "id": "d0ec4b69-f058-4839-8436-2139b4756e1f",
   "metadata": {},
   "outputs": [],
   "source": [
    "def LUP(matrixs):\n",
    "    pi = [i for i in range(matrixs.size[1])]\n",
    "    l, u, p = [], [], []\n",
    "    for i in range(matrixs.size[0]):\n",
    "        l.append([])\n",
    "        u.append([])\n",
    "        p.append([])\n",
    "        for j in range(matrixs.size[1]):\n",
    "            l[i].append(0)\n",
    "            u[i].append(0)\n",
    "            p[i].append(0)\n",
    "    L = matrix(l)\n",
    "    U = matrix(u)\n",
    "    P = matrix(p)\n",
    "    for k in range(matrixs.size[0]):\n",
    "        max_k = -float(\"inf\")\n",
    "        for i in range(k, matrixs.size[0]):\n",
    "            if max_k < abs(matrixs.elements[i][k]):\n",
    "                max_k = abs(matrixs.elements[i][k])\n",
    "                row_to_swap = i\n",
    "        if row_to_swap != k:\n",
    "            pi[k], pi[row_to_swap] = pi[row_to_swap], pi[k]\n",
    "            matrixs.swap(k, row_to_swap)\n",
    "        for i in range(k + 1, matrixs.size[0]):\n",
    "            matrixs.elements[i][k] /= matrixs.elements[k][k]\n",
    "            for j in range(k + 1, matrixs.size[1]):\n",
    "                matrixs.elements[i][j] -= matrixs.elements[i][k] * matrixs.elements[k][j]\n",
    "    for row in range(matrixs.size[0]):\n",
    "        for col in range(matrixs.size[1]):\n",
    "            if col == pi[row]:\n",
    "                P.elements[row][col] = 1\n",
    "            if row <= col:\n",
    "                if row == col:\n",
    "                    L.elements[row][col] = 1\n",
    "                U.elements[row][col] = matrixs.elements[row][col]\n",
    "            else:\n",
    "                L.elements[row][col] = matrixs.elements[row][col]\n",
    "    return L, U, P"
   ]
  },
  {
   "cell_type": "code",
   "execution_count": 293,
   "id": "e374dc01-cc66-49ee-884b-765f3cecb55f",
   "metadata": {},
   "outputs": [],
   "source": [
    "def solve(matrixs, b):\n",
    "    l, u, p = LUP(matrixs)\n",
    "    p1 = deepcopy(p)\n",
    "    b1 = matrix([deepcopy(b)])\n",
    "    pb = []\n",
    "    for i in range(p1.size[0]):\n",
    "        for j in range(p1.size[1]):\n",
    "            if p1.elements[i][j] == 1:\n",
    "                pb.append([b1.elements[0][j]])\n",
    "    y1, x1 = [], []\n",
    "    for i in range(matrixs.size[0]):\n",
    "        y1.append([0])\n",
    "        x1.append([0])\n",
    "    y = matrix(y1)\n",
    "    x = matrix(x1)\n",
    "    for k in range(matrixs.size[0]):\n",
    "        sum = 0\n",
    "        for i in range(k):\n",
    "            sum += l.elements[k][i] * y.elements[i][0]\n",
    "        y.elements[k] = [pb[k][0] - sum]\n",
    "    for k in range(matrixs.size[0] - 1, -1, -1):\n",
    "        sum = 0\n",
    "        for i in range(k + 1, matrixs.size[0]):\n",
    "            sum += u.elements[k][i] * x.elements[i][0]\n",
    "        x.elements[k] = [(y.elements[k][0] - sum) / u.elements[k][k]]\n",
    "    return x"
   ]
  },
  {
   "cell_type": "code",
   "execution_count": 19,
   "id": "ba55fede-107e-4ab1-a2aa-5a57efeb0ecd",
   "metadata": {},
   "outputs": [],
   "source": [
    "A = matrix([[1, 2, 3], [4, 5, 6], [7, 8, 9]])\n",
    "n = matrix([[7, 8, 0], [1, 4, 2], [8, 6, 5]])"
   ]
  },
  {
   "cell_type": "code",
   "execution_count": 21,
   "id": "3aabcff7-c39f-4b2a-8b58-04b74de32653",
   "metadata": {},
   "outputs": [
    {
     "data": {
      "text/plain": [
       "[[33, 34, 19], [81, 88, 40], [129, 142, 61]]"
      ]
     },
     "execution_count": 21,
     "metadata": {},
     "output_type": "execute_result"
    }
   ],
   "source": [
    "A.multiply(n)"
   ]
  },
  {
   "cell_type": "code",
   "execution_count": 23,
   "id": "9847f5bf-a123-4d2d-9c09-6e201b7bdb27",
   "metadata": {},
   "outputs": [
    {
     "data": {
      "text/plain": [
       "0"
      ]
     },
     "execution_count": 23,
     "metadata": {},
     "output_type": "execute_result"
    }
   ],
   "source": [
    "A.determinant(A.elements, len(A.elements))"
   ]
  },
  {
   "cell_type": "code",
   "execution_count": 25,
   "id": "445c51a7-56c8-4c2d-b3c3-6a8254de67c8",
   "metadata": {},
   "outputs": [
    {
     "data": {
      "text/plain": [
       "[[-3, -6, -3], [-6, -12, -6], [-3, -6, -3]]"
      ]
     },
     "execution_count": 25,
     "metadata": {},
     "output_type": "execute_result"
    }
   ],
   "source": [
    "A.minors()"
   ]
  },
  {
   "cell_type": "code",
   "execution_count": 27,
   "id": "d87502a4-ce71-44be-926f-bb9fa297aa85",
   "metadata": {},
   "outputs": [
    {
     "data": {
      "text/plain": [
       "[[-3, 6, -3], [6, -12, 6], [-3, 6, -3]]"
      ]
     },
     "execution_count": 27,
     "metadata": {},
     "output_type": "execute_result"
    }
   ],
   "source": [
    "A.alg_complement()"
   ]
  },
  {
   "cell_type": "code",
   "execution_count": 29,
   "id": "0ce85f37-dbd2-40f0-a6b2-88383d173ab9",
   "metadata": {},
   "outputs": [
    {
     "data": {
      "text/plain": [
       "144"
      ]
     },
     "execution_count": 29,
     "metadata": {},
     "output_type": "execute_result"
    }
   ],
   "source": [
    "n.determinant(n.elements, n.size[0])"
   ]
  },
  {
   "cell_type": "code",
   "execution_count": 31,
   "id": "a6aa75f4-c532-43c4-b86f-164dff779886",
   "metadata": {},
   "outputs": [
    {
     "data": {
      "text/plain": [
       "[[0.05555555555555555, -0.2777777777777778, 0.1111111111111111],\n",
       " [0.0763888888888889, 0.24305555555555555, -0.09722222222222222],\n",
       " [-0.18055555555555555, 0.1527777777777778, 0.1388888888888889]]"
      ]
     },
     "execution_count": 31,
     "metadata": {},
     "output_type": "execute_result"
    }
   ],
   "source": [
    "n.invert().elements"
   ]
  },
  {
   "cell_type": "code",
   "execution_count": 57,
   "id": "efce3468-f111-4c87-ae9d-67e87470fbc1",
   "metadata": {},
   "outputs": [
    {
     "data": {
      "text/plain": [
       "[[8, 18, 9], [32, 45, 18], [56, 72, 27]]"
      ]
     },
     "execution_count": 57,
     "metadata": {},
     "output_type": "execute_result"
    }
   ],
   "source": [
    "A = matrix([[1, 2, 3], [4, 5, 6], [7, 8, 9]])\n",
    "k = matrix([[8, 9, 3]])\n",
    "A.multiply(k, vector = True)"
   ]
  },
  {
   "cell_type": "code",
   "execution_count": 33,
   "id": "b58d3b38-0a11-4c10-920d-ecfe79e76fcc",
   "metadata": {},
   "outputs": [
    {
     "data": {
      "text/plain": [
       "[[-0.33333333333333326, 0.6666666666666667, 0.33333333333333337],\n",
       " [-0.4791666666666665, 1.0208333333333333, 0.7916666666666667],\n",
       " [-0.625, 1.3749999999999998, 1.25]]"
      ]
     },
     "execution_count": 33,
     "metadata": {},
     "output_type": "execute_result"
    }
   ],
   "source": [
    "A.divide(n)"
   ]
  },
  {
   "cell_type": "code",
   "execution_count": null,
   "id": "4d00af7c-830b-4f2a-b5f3-1960c623150f",
   "metadata": {},
   "outputs": [],
   "source": [
    "solve_for = matrix([[1, 1, 0, 3, 0, 0],\n",
    "                    [7, 4, 8, 0, 9, 0],\n",
    "                    [0, 5, 4, 0, 0, 9],\n",
    "                    [3, 0, 0, 4, 8, 0],\n",
    "                    [0, 6, 0, 1, 4, 5],\n",
    "                    [0, 0, 5, 0, 7, 4]])\n",
    "b = [1, 5, 0, 2, 4, 1]"
   ]
  },
  {
   "cell_type": "code",
   "execution_count": null,
   "id": "a26c23bf-d313-40e2-913a-594dbaa0ccd9",
   "metadata": {},
   "outputs": [
    {
     "data": {
      "text/plain": [
       "[[-0.4793489318413024],\n",
       " [0.9122075279755851],\n",
       " [0.2111902339776197],\n",
       " [0.18904713462190598],\n",
       " [0.33523228212953543],\n",
       " [-0.6006442861987117]]"
      ]
     },
     "execution_count": 297,
     "metadata": {},
     "output_type": "execute_result"
    }
   ],
   "source": [
    "solve(solve_for, b).elements"
   ]
  },
  {
   "cell_type": "code",
   "execution_count": 299,
   "id": "2096a848-2e58-4026-8d21-ebc631692660",
   "metadata": {},
   "outputs": [],
   "source": [
    "import numpy as np\n",
    "a = [[1, 1, 0, 3, 0, 0],\n",
    "    [7, 4, 8, 0, 9, 0],\n",
    "    [0, 5, 4, 0, 0, 9],\n",
    "    [3, 0, 0, 4, 8, 0],\n",
    "    [0, 6, 0, 1, 4, 5],\n",
    "    [0, 0, 5, 0, 7, 4]]\n",
    "x = np.linalg.solve(a, b)"
   ]
  },
  {
   "cell_type": "code",
   "execution_count": 301,
   "id": "7843740f-2ac4-4624-93e2-4476b5e5923e",
   "metadata": {},
   "outputs": [
    {
     "data": {
      "text/plain": [
       "array([-0.47934893,  0.91220753,  0.21119023,  0.18904713,  0.33523228,\n",
       "       -0.60064429])"
      ]
     },
     "execution_count": 301,
     "metadata": {},
     "output_type": "execute_result"
    }
   ],
   "source": [
    "x"
   ]
  },
  {
   "cell_type": "code",
   "execution_count": null,
   "id": "985f0c3c-4ecf-4dc2-9dd9-f20e2a2c7333",
   "metadata": {},
   "outputs": [],
   "source": []
  }
 ],
 "metadata": {
  "kernelspec": {
   "display_name": "Python 3 (ipykernel)",
   "language": "python",
   "name": "python3"
  },
  "language_info": {
   "codemirror_mode": {
    "name": "ipython",
    "version": 3
   },
   "file_extension": ".py",
   "mimetype": "text/x-python",
   "name": "python",
   "nbconvert_exporter": "python",
   "pygments_lexer": "ipython3",
   "version": "3.11.4"
  }
 },
 "nbformat": 4,
 "nbformat_minor": 5
}
