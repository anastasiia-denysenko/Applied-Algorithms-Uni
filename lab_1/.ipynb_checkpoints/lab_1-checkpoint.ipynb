{
 "cells": [
  {
   "cell_type": "markdown",
   "id": "04fee27b-bffe-45eb-9c9a-2e7cd17251f7",
   "metadata": {},
   "source": [
    "# Перша лабораторна робота, варіант №4"
   ]
  },
  {
   "cell_type": "markdown",
   "id": "a0cc5154-5f3f-4361-8b6b-46512547f8b4",
   "metadata": {},
   "source": [
    "## Реалізація класу множини з деякими унарними операціями"
   ]
  },
  {
   "cell_type": "code",
   "execution_count": 1,
   "id": "0bc2a939-cfe3-4500-807b-55e6cd32a469",
   "metadata": {},
   "outputs": [],
   "source": [
    "import random\n",
    "import time\n",
    "import matplotlib.pyplot as plt"
   ]
  },
  {
   "cell_type": "code",
   "execution_count": 3,
   "id": "d609ad8d-8c72-466a-9222-0850c15d45bf",
   "metadata": {},
   "outputs": [],
   "source": [
    "# Створення класу SparseSet з функціями пошуку елементу, додавання елементу, видалення одного елементу, видалення всіх елементів та друкуванням їх списку.\n",
    "class SparseSet:\n",
    "    def __init__(self, maxVal, cap):\n",
    "        self.sparse = [0] * (maxVal + 1)\n",
    "        self.dense = [0] * cap\n",
    "        self.capacity = cap\n",
    "        self.maxValue = maxVal\n",
    "        self.n = 0\n",
    "    def search(self, x):\n",
    "        if x > self.maxValue:\n",
    "            return -1\n",
    "        else:\n",
    "            if (self.sparse[x] < self.n)&(self.dense[self.sparse[x]] == x):\n",
    "                return x\n",
    "            else:\n",
    "                return -1\n",
    "    def insert(self, x):\n",
    "        if isinstance(x, int) == False:\n",
    "            return\n",
    "        if x < 0:\n",
    "            return\n",
    "        if x > self.maxValue:\n",
    "            return\n",
    "        if self.n > self.capacity:\n",
    "            return\n",
    "        if self.search(x) != -1:\n",
    "            return\n",
    "        self.dense[self.n] = x\n",
    "        self.sparse[x] = self.n\n",
    "        self.n+=1\n",
    "    def delete(self, x):\n",
    "        if self.search(x) != -1:\n",
    "            tmp = self.dense[self.n - 1]\n",
    "            self.dense[self.sparse[x]] = tmp\n",
    "            self.sparse[tmp] = self.sparse[x]\n",
    "            self.n -= 1\n",
    "            return self.dense\n",
    "        return -1\n",
    "    def clear(self):\n",
    "        self.n = 0\n",
    "    def print_set(self):\n",
    "        for i in range(self.n):\n",
    "            print(self.dense[i], end=' ')\n",
    "        print()"
   ]
  },
  {
   "cell_type": "code",
   "execution_count": 17,
   "id": "49e480eb-eb3f-4a3b-a799-ba2c35248913",
   "metadata": {},
   "outputs": [
    {
     "name": "stdout",
     "output_type": "stream",
     "text": [
      "3\n",
      "4 \n"
     ]
    }
   ],
   "source": [
    "# Приклад створення об'єкту класу SparseSet.\n",
    "A = SparseSet(70000, 66000)\n",
    "n = 65537\n",
    "for i in range(n):\n",
    "    A.insert(random.randint(0,70000))\n",
    "print(A.search(3))\n",
    "A.insert(70321)\n",
    "A.delete(70321)\n",
    "A.clear()\n",
    "A.insert(4)\n",
    "A.print_set()"
   ]
  },
  {
   "cell_type": "markdown",
   "id": "4798699b-b4b7-408f-90df-1f37699e7b72",
   "metadata": {},
   "source": [
    "## Реалізація деяких бінарних операцій"
   ]
  },
  {
   "cell_type": "code",
   "execution_count": 25,
   "id": "32080db0-0ac4-4b0e-b8a9-9ea65940b671",
   "metadata": {},
   "outputs": [],
   "source": [
    "# Операція об'єднання двох множин.\n",
    "def union(A:SparseSet, B:SparseSet):\n",
    "    if A.n == 0:\n",
    "        return B\n",
    "    elif B.n == 0:\n",
    "        return A\n",
    "    else:\n",
    "        maxval = max(A.maxValue, B.maxValue)\n",
    "        capac = A.n + B.n\n",
    "        union = SparseSet(maxval, capac)\n",
    "        for i in range(B.n):\n",
    "            union.insert(B.dense[i])\n",
    "        for j in range(A.n):\n",
    "            union.insert(A.dense[j])\n",
    "        return union"
   ]
  },
  {
   "cell_type": "code",
   "execution_count": 31,
   "id": "74f99ae6-0e73-4578-922e-d317a1a23de7",
   "metadata": {},
   "outputs": [
    {
     "name": "stdout",
     "output_type": "stream",
     "text": [
      "4 \n",
      "14 5 0 8 10 15 6 9 2 \n",
      "14 5 0 8 10 15 6 9 2 4 \n"
     ]
    }
   ],
   "source": [
    "# Приклад об'єднання множин.\n",
    "B = SparseSet(15, 10)\n",
    "n = 10\n",
    "for i in range(n):\n",
    "    B.insert(random.randint(0,15))\n",
    "unite = union(A, B)\n",
    "A.print_set()\n",
    "B.print_set()\n",
    "unite.print_set()"
   ]
  },
  {
   "cell_type": "code",
   "execution_count": 29,
   "id": "f5c274f3-3d67-4bec-85cb-531c1cd364da",
   "metadata": {},
   "outputs": [],
   "source": [
    "# Операція перетину множин.\n",
    "def intersection(A:SparseSet, B:SparseSet):\n",
    "    maxval = max(A.maxValue, B.maxValue)\n",
    "    capac = min(A.n, B.n)\n",
    "    intersection_ = SparseSet(maxval, capac)\n",
    "    if B.n < A.n:\n",
    "        for i in range(B.n):\n",
    "            if A.search(B.dense[i]) != -1:\n",
    "                intersection_.insert(B.dense[i])\n",
    "    else:\n",
    "        for i in range(A.n):\n",
    "            if B.search(A.dense[i]) != -1:\n",
    "                intersection_.insert(A.dense[i])\n",
    "    return intersection_"
   ]
  },
  {
   "cell_type": "code",
   "execution_count": 35,
   "id": "dd6a06ed-f0a8-474d-b022-31bb5b37cb9b",
   "metadata": {},
   "outputs": [],
   "source": [
    "A.insert(5)\n",
    "A.insert(10)\n",
    "A.insert(8)"
   ]
  },
  {
   "cell_type": "code",
   "execution_count": 37,
   "id": "4b7ae30b-35bf-4a1c-a329-478db63408fa",
   "metadata": {},
   "outputs": [
    {
     "name": "stdout",
     "output_type": "stream",
     "text": [
      "5 10 8 \n"
     ]
    }
   ],
   "source": [
    "# Приклад перетину множин.\n",
    "intersect = intersection(A, B)\n",
    "intersect.print_set()"
   ]
  },
  {
   "cell_type": "code",
   "execution_count": 43,
   "id": "b639ebaf-9fbe-4538-a904-9c32dc574db3",
   "metadata": {},
   "outputs": [],
   "source": [
    "# Операція пошуку різниці множин (повертає A-B, якщо А перший аргумент)\n",
    "def set_difference(A:SparseSet, B:SparseSet):\n",
    "    maxval = max(A.maxValue, B.maxValue)\n",
    "    capac = max(A.n, B.n)\n",
    "    set_difference = SparseSet(maxval, capac)\n",
    "    for i in range(A.n):\n",
    "        if B.search(A.dense[i]) == -1:\n",
    "            set_difference.insert(A.dense[i])\n",
    "    return set_difference"
   ]
  },
  {
   "cell_type": "code",
   "execution_count": 55,
   "id": "335e81be-d146-41fc-8a8f-13ccb6a43a86",
   "metadata": {},
   "outputs": [
    {
     "name": "stdout",
     "output_type": "stream",
     "text": [
      "B-A: \n",
      "14 0 15 6 9 2 \n",
      "A-B: \n",
      "4 \n"
     ]
    }
   ],
   "source": [
    "# Приклад різниці множин.\n",
    "print(\"B-A: \")\n",
    "difference = set_difference(B, A)\n",
    "difference.print_set()\n",
    "print(\"A-B: \")\n",
    "difference1 = set_difference(A, B)\n",
    "difference1.print_set()"
   ]
  },
  {
   "cell_type": "code",
   "execution_count": 59,
   "id": "37496a90-73f1-4640-bf5b-11ae2d0bd2a4",
   "metadata": {},
   "outputs": [],
   "source": [
    "# Операція пошуку симетричної різниці.\n",
    "def symetrical_difference(A:SparseSet, B:SparseSet):\n",
    "    maxval = max(A.maxValue, B.maxValue)\n",
    "    capac = max(A.n, B.n)\n",
    "    symetrical_difference = SparseSet(maxval, capac)\n",
    "    if A.dense == B.dense:\n",
    "        return symetrical_difference\n",
    "    elif A.n == 0:\n",
    "        return B\n",
    "    elif B.n == 0:\n",
    "        return A\n",
    "    else:\n",
    "        unite = union(A, B)\n",
    "        intersect = intersection(A, B)\n",
    "        symetrical_difference = set_difference(unite, intersect)\n",
    "        return symetrical_difference"
   ]
  },
  {
   "cell_type": "code",
   "execution_count": 61,
   "id": "860caee6-4738-4307-9532-f692d0bf9ae7",
   "metadata": {},
   "outputs": [
    {
     "name": "stdout",
     "output_type": "stream",
     "text": [
      "14 0 15 6 9 2 4 \n"
     ]
    }
   ],
   "source": [
    "# Приклад симетричної різниці множин.\n",
    "symetricaldifference = symetrical_difference(A, B)\n",
    "symetricaldifference.print_set()"
   ]
  },
  {
   "cell_type": "code",
   "execution_count": 65,
   "id": "80902fe7-a56a-4836-88b0-6e190b19346a",
   "metadata": {},
   "outputs": [],
   "source": [
    "# Операція перевірки на належність до множини.\n",
    "def is_subset(A:SparseSet, B:SparseSet):\n",
    "    if (A.n == 0) or (B.n == 0):\n",
    "        return False\n",
    "    else:\n",
    "        if A.n > B.n:\n",
    "            for i in range(B.n):\n",
    "                if A.search(B.dense[i]) != -1:\n",
    "                    return True\n",
    "                else:\n",
    "                    return False\n",
    "        else:\n",
    "            for i in range(A.n):\n",
    "                if B.search(A.dense[i]) != -1:\n",
    "                    return True\n",
    "                else:\n",
    "                    return False"
   ]
  },
  {
   "cell_type": "code",
   "execution_count": 69,
   "id": "c262ebd8-4a7d-42e6-ae42-2940c4907ea9",
   "metadata": {},
   "outputs": [
    {
     "name": "stdout",
     "output_type": "stream",
     "text": [
      "False\n"
     ]
    }
   ],
   "source": [
    "# Приклад перевірки на належність до множини.\n",
    "issubset = is_subset(A, B)\n",
    "print(issubset)"
   ]
  },
  {
   "cell_type": "markdown",
   "id": "2166d3f6-ee83-4592-97ea-45a01621bb46",
   "metadata": {},
   "source": [
    "## Вимірювання часу виконання операцій"
   ]
  },
  {
   "cell_type": "markdown",
   "id": "0e94c185-c9a6-4062-8ee1-584e350c8a83",
   "metadata": {},
   "source": [
    "### Вимірювання часу для пошуку"
   ]
  },
  {
   "cell_type": "code",
   "execution_count": 101,
   "id": "ca5f9ffb-396c-4081-ba5b-53f133a68d9b",
   "metadata": {},
   "outputs": [],
   "source": [
    "# Створення множини, на якій буде тестуватися пошук\n",
    "M = SparseSet(100000, 85000)\n",
    "n = 85000\n",
    "for i in range(n):\n",
    "    M.insert(random.randint(15000, 100000))\n",
    "# Створення списку, елементів якого нема в множині\n",
    "not_in_M = []\n",
    "for i in range(15000):\n",
    "    not_in_M.append(random.randint(0, 15000))\n",
    "# Створення списку, елементи якого є в множині\n",
    "in_M = []\n",
    "for i in range(15000):\n",
    "    in_M.append(random.randint(15000, 100000))"
   ]
  },
  {
   "cell_type": "code",
   "execution_count": 457,
   "id": "88b2b7ff-2f51-4884-89b3-a3376cc3f544",
   "metadata": {},
   "outputs": [],
   "source": [
    "def mesure_time_search(set, elements, reps):\n",
    "    seconds = 0\n",
    "    for i in range(len(elements)):\n",
    "        for j in range(reps):\n",
    "            start_time = time.time()\n",
    "            set.search(elements[i])\n",
    "            end_time = time.time()\n",
    "            it_took = end_time - start_time\n",
    "            seconds += it_took\n",
    "            j += 1\n",
    "    return seconds"
   ]
  },
  {
   "cell_type": "code",
   "execution_count": 131,
   "id": "68a0af7e-1e15-4dad-b5a2-761b5d508b80",
   "metadata": {},
   "outputs": [
    {
     "data": {
      "text/plain": [
       "3.2677624225616455"
      ]
     },
     "execution_count": 131,
     "metadata": {},
     "output_type": "execute_result"
    }
   ],
   "source": [
    "mesure_time_search(M, not_in_M, 1000)"
   ]
  },
  {
   "cell_type": "markdown",
   "id": "c4284ea8-82b8-4852-a40a-5394c2dadc40",
   "metadata": {},
   "source": [
    "На пошук 15000 елементів при повторенні кожної операції 1000 разів пошук зайняв 3.2677624225616455 секунд, тобто на пошук одного елементу, якого немає в множині, витрачалося 3.2677624225616455/(15000*1000) = 2.1785082817077637e-07  секунд."
   ]
  },
  {
   "cell_type": "code",
   "execution_count": 125,
   "id": "fe775d1c-f0da-4a47-ac20-838abea640a4",
   "metadata": {},
   "outputs": [
    {
     "data": {
      "text/plain": [
       "3.0798094272613525"
      ]
     },
     "execution_count": 125,
     "metadata": {},
     "output_type": "execute_result"
    }
   ],
   "source": [
    "mesure_time_search(M, in_M, 1000)"
   ]
  },
  {
   "cell_type": "markdown",
   "id": "7bd0b63f-7174-4c6f-82bb-1778439d3daf",
   "metadata": {},
   "source": [
    "На пошук 15000 елементів при повторенні кожної операції 1000 разів пошук зайняв 3.0798094272613525 секунд, тобто на пошук одного елементу, який є в множині, витрачалося 3.0798094272613525/(15000*1000) = 2.0532062848409017e-07 секунд."
   ]
  },
  {
   "cell_type": "markdown",
   "id": "ea7f558b-963f-424f-9cd8-ffd689074c9f",
   "metadata": {},
   "source": [
    "### Вимірювання часу для об'єднання"
   ]
  },
  {
   "cell_type": "code",
   "execution_count": 442,
   "id": "28097173-2c30-416a-b6f4-fee01995d351",
   "metadata": {},
   "outputs": [],
   "source": [
    "# Створення функції для тестування часу об'єднання\n",
    "def mesure_time_union(reps):\n",
    "    seconds = 0\n",
    "    for i in range(reps):\n",
    "        K = SparseSet(66000, 66000)\n",
    "        l = 66000\n",
    "        for i in range(l):\n",
    "            K.insert(random.randint(0, 66000))\n",
    "        M = SparseSet(132000, 66000)\n",
    "        n = 66000\n",
    "        for i in range(l):\n",
    "            M.insert(random.randint(64000, 132000))\n",
    "        start_time = time.time()\n",
    "        union(K, M)\n",
    "        end_time = time.time()\n",
    "        it_took = end_time - start_time\n",
    "        seconds += it_took\n",
    "        i += 1\n",
    "    return seconds"
   ]
  },
  {
   "cell_type": "code",
   "execution_count": 157,
   "id": "aad926eb-4276-40b0-bd2b-83261495275d",
   "metadata": {},
   "outputs": [
    {
     "data": {
      "text/plain": [
       "48.0354118347168"
      ]
     },
     "execution_count": 157,
     "metadata": {},
     "output_type": "execute_result"
    }
   ],
   "source": [
    "mesure_time_union(1000)"
   ]
  },
  {
   "cell_type": "markdown",
   "id": "420ac031-5833-4c6e-afb7-c432ba31f98e",
   "metadata": {},
   "source": [
    "Отже, 1000 об'єднань двох множин, кожна потужністю 66000 елементів, зайняло 48.0354118347168 секунд, тобто одне об'єднання триває 0.048035411834716796 секунд."
   ]
  },
  {
   "cell_type": "markdown",
   "id": "441cef5d-20e8-4d89-bbee-48bf64968e99",
   "metadata": {},
   "source": [
    "## Залежність часу виконання від розміру множини"
   ]
  },
  {
   "cell_type": "code",
   "execution_count": 459,
   "id": "40b5cd10-de3f-4f89-8d8a-dcb62a469073",
   "metadata": {},
   "outputs": [],
   "source": [
    "to_search_for = []\n",
    "list_of_results = []\n",
    "m = 0\n",
    "while m != 100:\n",
    "    to_search_for.append(random.randint(0, 1000))\n",
    "    m+=1\n",
    "def create_sets(min_size, max_size, maxValue, step):\n",
    "    sets = []\n",
    "    for i in range(min_size, max_size, step):\n",
    "        K = SparseSet(maxValue, min_size+i)\n",
    "        for j in range(min_size, min_size+i):\n",
    "            K.insert(random.randint(0, maxValue))\n",
    "        sets.append(K)\n",
    "    return sets"
   ]
  },
  {
   "cell_type": "code",
   "execution_count": 461,
   "id": "729c65b7-8e23-48d4-9c54-4f8a0bf2739c",
   "metadata": {},
   "outputs": [],
   "source": [
    "sets = create_sets(66000, 100000, 100000, 100)"
   ]
  },
  {
   "cell_type": "code",
   "execution_count": 463,
   "id": "de304e24-c34b-47f9-8da2-644f9b4bb7b1",
   "metadata": {},
   "outputs": [],
   "source": [
    "def measure_time_depending_on_size():\n",
    "    for i in range(len(sets)):\n",
    "        seconds = mesure_time_search(sets[i], to_search_for, 1000)\n",
    "        list_of_results.append(seconds/1000)\n",
    "    return list_of_results"
   ]
  },
  {
   "cell_type": "code",
   "execution_count": 469,
   "id": "6a1ecf06-da79-40f8-9651-97d32017d08d",
   "metadata": {},
   "outputs": [],
   "source": [
    "time_and_size = measure_time_depending_on_size()"
   ]
  },
  {
   "cell_type": "code",
   "execution_count": 471,
   "id": "3de24410-8c0f-4b47-86a4-4920007fc2f4",
   "metadata": {},
   "outputs": [],
   "source": [
    "def sizes_of_set():\n",
    "    lst = []\n",
    "    for i in range(len(sets)):\n",
    "        lst.append(sets[i].n)\n",
    "    return lst"
   ]
  },
  {
   "cell_type": "code",
   "execution_count": 473,
   "id": "464ffb81-9fa7-4639-922d-25864cee13b0",
   "metadata": {},
   "outputs": [
    {
     "data": {
      "image/png": "[encoded data removed]",
      "text/plain": [
       "<Figure size 1000x600 with 1 Axes>"
      ]
     },
     "metadata": {},
     "output_type": "display_data"
    }
   ],
   "source": [
    "sizes = sizes_of_set()\n",
    "plt.style.use('_mpl-gallery')\n",
    "plt.figure(figsize=(10,6))\n",
    "plt.scatter(sizes, time_and_size, color = '#88c999')\n",
    "plt.show()"
   ]
  },
  {
   "cell_type": "code",
   "execution_count": 537,
   "id": "691248f5-9255-4757-9859-ff44ceeb9ad8",
   "metadata": {},
   "outputs": [],
   "source": [
    "sets1 = create_sets(46000, 56000, 100000, 500)\n",
    "sets2 = create_sets(43000, 53000, 100000, 500)"
   ]
  },
  {
   "cell_type": "code",
   "execution_count": 541,
   "id": "7cb433b6-8423-4c1d-b329-2527ba3cac4c",
   "metadata": {},
   "outputs": [],
   "source": [
    "def measure_time_depending_on_size_union():\n",
    "    list_of_results = []\n",
    "    seconds = 0\n",
    "    for i in range(len(sets1)):\n",
    "        for j in range(100):\n",
    "            start_time = time.time()\n",
    "            union(sets1[i], sets2[i])\n",
    "            end_time = time.time()\n",
    "            it_took = end_time - start_time\n",
    "            seconds += it_took\n",
    "            j += 1\n",
    "        list_of_results.append(seconds/1000)\n",
    "    return list_of_results"
   ]
  },
  {
   "cell_type": "code",
   "execution_count": 543,
   "id": "9407de3e-255b-4047-87e6-1a4a413ce25d",
   "metadata": {},
   "outputs": [],
   "source": [
    "time_union = measure_time_depending_on_size_union()"
   ]
  },
  {
   "cell_type": "code",
   "execution_count": 545,
   "id": "e3a5ff76-9b2c-4ed7-a16e-a8085dad6dfb",
   "metadata": {},
   "outputs": [
    {
     "data": {
      "text/plain": [
       "[0.00409802770614624,\n",
       " 0.00860650372505188,\n",
       " 0.012619564533233643,\n",
       " 0.016529850244522096,\n",
       " 0.020820364952087403,\n",
       " 0.02492657256126404,\n",
       " 0.029122175931930543,\n",
       " 0.0332555079460144,\n",
       " 0.03791291666030884,\n",
       " 0.04218709707260132,\n",
       " 0.04662523341178894,\n",
       " 0.05087748122215271,\n",
       " 0.055414009094238284,\n",
       " 0.05978246331214905,\n",
       " 0.0642353253364563,\n",
       " 0.0687190227508545,\n",
       " 0.07312463068962097,\n",
       " 0.07746870160102844,\n",
       " 0.08196260523796081,\n",
       " 0.08650516772270203]"
      ]
     },
     "execution_count": 545,
     "metadata": {},
     "output_type": "execute_result"
    }
   ],
   "source": [
    "time_union"
   ]
  },
  {
   "cell_type": "code",
   "execution_count": 547,
   "id": "107b45ae-8261-4b9b-a2b5-0312ad36d70c",
   "metadata": {},
   "outputs": [],
   "source": [
    "def sizes_of_sets():\n",
    "    lst = []\n",
    "    for i in range(len(sets2)):\n",
    "        lst.append(sets2[i].n)\n",
    "    return lst"
   ]
  },
  {
   "cell_type": "code",
   "execution_count": 549,
   "id": "92cf0494-8285-40bd-aa3d-f7450894af0a",
   "metadata": {},
   "outputs": [
    {
     "data": {
      "image/png": "[encoded data removed]",
      "text/plain": [
       "<Figure size 1000x600 with 1 Axes>"
      ]
     },
     "metadata": {},
     "output_type": "display_data"
    }
   ],
   "source": [
    "size_ = sizes_of_sets()\n",
    "plt.style.use('_mpl-gallery')\n",
    "plt.figure(figsize=(10,6))\n",
    "plt.scatter(size_, time_union, color = '#88c999')\n",
    "plt.show()"
   ]
  },
  {
   "cell_type": "code",
   "execution_count": null,
   "id": "fc83fd17-4868-4642-8578-441a3fe1d2f0",
   "metadata": {},
   "outputs": [],
   "source": []
  }
 ],
 "metadata": {
  "kernelspec": {
   "display_name": "Python 3 (ipykernel)",
   "language": "python",
   "name": "python3"
  },
  "language_info": {
   "codemirror_mode": {
    "name": "ipython",
    "version": 3
   },
   "file_extension": ".py",
   "mimetype": "text/x-python",
   "name": "python",
   "nbconvert_exporter": "python",
   "pygments_lexer": "ipython3",
   "version": "3.12.4"
  }
 },
 "nbformat": 4,
 "nbformat_minor": 5
}
